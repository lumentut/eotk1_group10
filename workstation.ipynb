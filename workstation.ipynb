{
 "cells": [
  {
   "cell_type": "code",
   "execution_count": 1,
   "metadata": {},
   "outputs": [],
   "source": [
    "from src.scheduller import Scheduler\n",
    "from src.solution.solution import solution_dict\n",
    "from src.writer import Writer\n",
    "\n",
    "\n",
    "scheduler = Scheduler(solution=solution_dict)\n",
    "scheduler.get_schedule()\n",
    "\n",
    "writer = Writer(\n",
    "    file_name=scheduler.file_name, \n",
    "    num_personnel=scheduler.num_personnel,\n",
    "    rows_per_person=scheduler.rows_per_person\n",
    ")\n",
    "\n",
    "writer.write(\n",
    "    schedule=scheduler.schedule,\n",
    "    day_shifts=scheduler.day_shifts,\n",
    "    night_shifts=scheduler.night_shifts\n",
    ")\n"
   ]
  }
 ],
 "metadata": {
  "kernelspec": {
   "display_name": "3.10.16",
   "language": "python",
   "name": "python3"
  },
  "language_info": {
   "codemirror_mode": {
    "name": "ipython",
    "version": 3
   },
   "file_extension": ".py",
   "mimetype": "text/x-python",
   "name": "python",
   "nbconvert_exporter": "python",
   "pygments_lexer": "ipython3",
   "version": "3.10.16"
  }
 },
 "nbformat": 4,
 "nbformat_minor": 2
}
