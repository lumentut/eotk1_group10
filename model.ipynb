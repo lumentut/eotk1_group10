{
 "cells": [
  {
   "cell_type": "markdown",
   "metadata": {},
   "source": [
    "#### Model Problem Setup\n",
    "\n",
    "This notebook aims to implement the mathematical model from the reference paper [1] into Python code. Personnel competencies will be read from an Excel file that tabulates each individual's competenciesi taken directly from the paper. Please ensure you have installed ``IBM CPLEX``, ``docplex``, and ``pandas``. The code is made as simple as possible to illustrate the implementation of the mathematical model."
   ]
  },
  {
   "cell_type": "code",
   "execution_count": 1,
   "metadata": {},
   "outputs": [],
   "source": [
    "import pandas as pd\n",
    "from docplex.mp.model import Model\n",
    "from src.scheduller import Scheduler\n",
    "from src.writer import Writer\n",
    "from src.utils import list_range, competency_dict, save_solution_dict\n",
    "\n",
    "competency_file = \"./src/data/personnel_competencies.xlsx\"\n",
    "data_frame = pd.read_excel(competency_file)\n",
    "competency = competency_dict(data_frame)\n",
    "\n",
    "def person_competency(person_id: int, section_id: int):\n",
    "    return competency.get(person_id).get(section_id)\n",
    "\n",
    "# Create docplex Model\n",
    "model = Model(name=\"ShiftScheduler\")"
   ]
  },
  {
   "cell_type": "markdown",
   "metadata": {},
   "source": [
    "##### Parameters\n",
    "$$\n",
    "\\begin{aligned}\n",
    "n & : \\text{ number of personnel working in the factory, } n = 80 \\\\\n",
    "m & : \\text{ number of days, } m = 30 \\\\\n",
    "s & : \\text{ number of sections in the factory, } s = 7 \\\\\n",
    "t & : \\text{ number of shifts, } t = 2 \\\\\n",
    "i & : \\text{ personnel index, } i = 1, 2, \\dots, n \\\\\n",
    "j & : \\text{ day index, } j = 1, 2, \\dots, m \\\\\n",
    "k & : \\text{ section index, } k = 1, 2, \\dots, s \\\\\n",
    "l & : \\text{ shift index, } l = 1, 2, \\dots, t\n",
    "\\end{aligned}\n",
    "$$\n"
   ]
  },
  {
   "cell_type": "code",
   "execution_count": 2,
   "metadata": {},
   "outputs": [],
   "source": [
    "# Basic params\n",
    "n = 80 \t#num_personnel\n",
    "m = 30 \t#num_days, \n",
    "s = 7 \t#num_sections, \n",
    "t = 2\t#num_shifts"
   ]
  },
  {
   "cell_type": "markdown",
   "metadata": {},
   "source": [
    "#### Decision Variables"
   ]
  },
  {
   "cell_type": "markdown",
   "metadata": {},
   "source": [
    "Shift Decision Variables (X)\n",
    "\n",
    "$$\n",
    "X_{ijkl} = \n",
    "\\begin{cases} \n",
    "1, & \\text{if shift l, section k, and day j are chosen for personnel i} \\\\\n",
    "0, & \\text{otherwise}\n",
    "\\end{cases}, \\quad i = 1, 2, \\dots, n, \\; j = 1, 2, \\dots, m, \\; k = 1, 2, \\dots, s, \\; l = 1, 2, \\dots, t \\quad\\quad \\text{(4)}\n",
    "$$"
   ]
  },
  {
   "cell_type": "code",
   "execution_count": 3,
   "metadata": {},
   "outputs": [],
   "source": [
    "X = {(i, j, k, l): model.binary_var(name=f\"X_{i}_{j}_{k}_{l}\")\n",
    "    for i in list_range(n)\n",
    "    for j in list_range(m)\n",
    "    for k in list_range(s)\n",
    "    for l in list_range(t)\n",
    "}"
   ]
  },
  {
   "cell_type": "markdown",
   "metadata": {},
   "source": [
    "Leave Desision Variables (h)\n",
    "$$\n",
    "h_{ij} = \n",
    "\\begin{cases} \n",
    "1, & \\text{if vacation for personnel \\(i\\) on shift \\(j\\)} \\\\\n",
    "0, & \\text{otherwise}\n",
    "\\end{cases}, \\quad i = 1, 2, \\dots, n, \\; j = 1, 2, \\dots, m  \\quad\\quad \\text{(5)}\n",
    "$$\n"
   ]
  },
  {
   "cell_type": "code",
   "execution_count": 4,
   "metadata": {},
   "outputs": [],
   "source": [
    "h = {(i, j): model.binary_var(name=f\"h_{i}_{j}\") for i in list_range(n) for j in list_range(m)}"
   ]
  },
  {
   "cell_type": "markdown",
   "metadata": {},
   "source": [
    "##### Deviation Variables\n",
    "\n",
    "Deviation Goal 1\n",
    "\n",
    "$$\n",
    "d^-_{1ij}  \\quad\\quad  d^+_{1ij}\n",
    "$$"
   ]
  },
  {
   "cell_type": "code",
   "execution_count": 5,
   "metadata": {},
   "outputs": [],
   "source": [
    "d_neg_1 = model.continuous_var_matrix(keys1=range(1, n+1), keys2=range(1, m+1), name=\"d_neg_1\")\n",
    "d_pos_1 = model.continuous_var_matrix(keys1=range(1, n+1), keys2=range(1, m+1), name=\"d_pos_1\")"
   ]
  },
  {
   "cell_type": "markdown",
   "metadata": {},
   "source": [
    "Deviation Goal 2\n",
    "$$\n",
    "d^-_{2ij}  \\quad\\quad  d^+_{2ij}\n",
    "$$"
   ]
  },
  {
   "cell_type": "code",
   "execution_count": 6,
   "metadata": {},
   "outputs": [],
   "source": [
    "d_neg_2 = model.continuous_var_matrix(keys1=range(1, n+1), keys2=range(1, m+1), name=\"d_neg_2\")\n",
    "d_pos_2 = model.continuous_var_matrix(keys1=range(1, n+1), keys2=range(1, m+1), name=\"d_pos_2\")"
   ]
  },
  {
   "cell_type": "markdown",
   "metadata": {},
   "source": [
    "Deviation Goal 3\n",
    "$$\n",
    "d^-_{3ij}  \\quad\\quad  d^+_{3ij}\n",
    "$$"
   ]
  },
  {
   "cell_type": "code",
   "execution_count": 7,
   "metadata": {},
   "outputs": [],
   "source": [
    "d_neg_3 = model.continuous_var_list(keys=range(1, n + 1), name=\"d_neg_3\")\n",
    "d_pos_3 = model.continuous_var_list(keys=range(1, n + 1), name=\"d_pos_3\")"
   ]
  },
  {
   "cell_type": "markdown",
   "metadata": {},
   "source": [
    "Deviation Goal 4\n",
    "$$\n",
    "d^-_{4ij}  \\quad d^+_{4ij} \\quad d^-_{5ij}  \\quad d^+_{5ij} \\quad d^-_{6ij}  \\quad d^+_{6ij} \\quad d^-_{7ij}  \\quad d^+_{7ij} \\quad d^-_{8ij}  \\quad d^+_{8ij} \\quad d^-_{9ij}  \\quad d^+_{9ij} \\quad d^-_{10ij}  \\quad d^+_{10ij} \\quad \n",
    "$$"
   ]
  },
  {
   "cell_type": "code",
   "execution_count": 8,
   "metadata": {},
   "outputs": [],
   "source": [
    "d_neg_4 = model.continuous_var_matrix(keys1=range(1, m+1), keys2=range(1, t+1), name=\"d_neg_4\")\n",
    "d_pos_4 = model.continuous_var_matrix(keys1=range(1, m+1), keys2=range(1, t+1), name=\"d_pos_4\")\n",
    "d_neg_5 = model.continuous_var_matrix(keys1=range(1, m+1), keys2=range(1, t+1), name=\"d_neg_5\")\n",
    "d_pos_5 = model.continuous_var_matrix(keys1=range(1, m+1), keys2=range(1, t+1), name=\"d_pos_5\")\n",
    "d_neg_6 = model.continuous_var_matrix(keys1=range(1, m+1), keys2=range(t+1), name=\"d_neg_6\")\n",
    "d_pos_6 = model.continuous_var_matrix(keys1=range(1, m+1), keys2=range(1, t+1), name=\"d_pos_6\")\n",
    "d_neg_7 = model.continuous_var_matrix(keys1=range(1, m+1), keys2=range(1, t+1), name=\"d_neg_7\")\n",
    "d_pos_7 = model.continuous_var_matrix(keys1=range(1, m+1), keys2=range(1, t+1), name=\"d_pos_7\")\n",
    "d_neg_8 = model.continuous_var_matrix(keys1=range(1, m+1), keys2=range(1, t+1), name=\"d_neg_8\")\n",
    "d_pos_8 = model.continuous_var_matrix(keys1=range(1, m+1), keys2=range(1, t+1), name=\"d_pos_8\")\n",
    "d_neg_9 = model.continuous_var_matrix(keys1=range(1, m+1), keys2=range(1, t+1), name=\"d_neg_9\")\n",
    "d_pos_9 = model.continuous_var_matrix(keys1=range(1, m+1), keys2=range(1, t+1), name=\"d_pos_9\")\n",
    "d_neg_10 = model.continuous_var_matrix(keys1=range(1, m+1), keys2=range(1, t+1), name=\"d_neg_10\")\n",
    "d_pos_10 = model.continuous_var_matrix(keys1=range(1, m+1), keys2=range(1, t+1), name=\"d_pos_10\")"
   ]
  },
  {
   "cell_type": "markdown",
   "metadata": {},
   "source": [
    "#### Objective Function\n",
    "$$\n",
    "\\text{Min } Z = \\sum_{i=1}^n \\sum_{j=1}^m \\left( d_{1ij}^- + d_{1ij}^+ \\right) \n",
    "+ \\left( d_{2ij}^- + d_{2ij}^+ \\right) \n",
    "+ \\left( d_{3i}^- + d_{3i}^+ \\right) \n",
    "+ \\sum_{j=1}^m \\sum_{l=1}^t d_{4jl}^+ \n",
    "+ d_{5jl}^+ + d_{6jl}^+ + d_{7jl}^+ + d_{8jl}^+ + d_{9jl}^+ + d_{10jl}^ +\n",
    "\\quad \\text(22)\n",
    "$$\n",
    "\n",
    "$$\n",
    "\\text{Personnel Objective } = \\sum_{i=1}^n \\sum_{j=1}^m \\left( d_{1ij}^- + d_{1ij}^+ \\right) \n",
    "+ \\left( d_{2ij}^- + d_{2ij}^+ \\right) \n",
    "+ \\left( d_{3i}^- + d_{3i}^+ \\right)\n",
    "$$\n",
    "\n",
    "$$\n",
    "\\text{Shift Objective } = \\sum_{j=1}^m \\sum_{l=1}^t d_{4jl}^+ \n",
    "+ d_{5jl}^+ + d_{6jl}^+ + d_{7jl}^+ + d_{8jl}^+ + d_{9jl}^+ + d_{10jl}^+\n",
    "$$"
   ]
  },
  {
   "cell_type": "code",
   "execution_count": 9,
   "metadata": {},
   "outputs": [],
   "source": [
    "model.minimize(\n",
    "    # Goal 1 deviations\n",
    "    model.sum(d_neg_1[i, j] + d_pos_1[i, j] for i in list_range(n) for j in list_range(m)) +\n",
    "    # Goal 2 deviations\n",
    "    model.sum(d_neg_2[i, j] + d_pos_2[i, j] for i in list_range(n) for j in list_range(m)) +\n",
    "    # Goal 3 deviations\n",
    "    model.sum(d_neg_3[i] + d_pos_3[i] for i in range(0, n)) +\n",
    "    # Goals 4  deviations\n",
    "    model.sum(d_pos_4[j, l] for j in list_range(m) for l in list_range(t)) +\n",
    "    model.sum(d_pos_5[j, l] for j in list_range(m) for l in list_range(t)) +\n",
    "    model.sum(d_pos_6[j, l] for j in list_range(m) for l in list_range(t)) +\n",
    "    model.sum(d_pos_7[j, l] for j in list_range(m) for l in list_range(t)) +\n",
    "    model.sum(d_pos_8[j, l] for j in list_range(m) for l in list_range(t)) +\n",
    "    model.sum(d_pos_9[j, l] for j in list_range(m) for l in list_range(t)) +\n",
    "    model.sum(d_pos_10[j, l] for j in list_range(m) for l in list_range(t))\n",
    ")\n"
   ]
  },
  {
   "cell_type": "markdown",
   "metadata": {},
   "source": [
    "#### Constraints\n",
    "\n",
    "##### 1-To meet the daily personnel needs of the departments:"
   ]
  },
  {
   "cell_type": "markdown",
   "metadata": {},
   "source": [
    "Number of personnel needed for each shift in the cutting(1) section.\n",
    "$$\n",
    "\\sum_{i=1}^n \\left( X_{ij1l} \\right) = 3, \\; j = 1, 2, \\ldots, m, \\; l = 1, 2  \\quad\\quad \\text{(6)}\n",
    "$$"
   ]
  },
  {
   "cell_type": "code",
   "execution_count": 10,
   "metadata": {},
   "outputs": [],
   "source": [
    "for j in list_range(m):\n",
    "    for l in list_range(t):\n",
    "        model.add_constraint(\n",
    "            model.sum(X[i, j, 1, l] for i in list_range(n)) == 3,\n",
    "            f\"Equation_6_Personnel_Requirement_Section_1_Day_{j}_Shift_{l}\"\n",
    "        )"
   ]
  },
  {
   "cell_type": "markdown",
   "metadata": {},
   "source": [
    "Number of personnel needed for each shift in the sanding(2) section.\n",
    "$$\n",
    "\\sum_{i=1}^n \\left( X_{ij2l} \\right) = 4, \\; j = 1, 2, \\ldots, m, \\; l = 1, 2  \\quad\\quad \\text{(7)}\n",
    "$$"
   ]
  },
  {
   "cell_type": "code",
   "execution_count": 11,
   "metadata": {},
   "outputs": [],
   "source": [
    "for j in list_range(m):\n",
    "    for l in list_range(t):\n",
    "        model.add_constraint(\n",
    "            model.sum(X[i, j, 2, l] for i in list_range(n)) == 4,\n",
    "            f\"Equation_7_Personnel_Requirement_Section_2_Day_{j}_Shift_{l}\"\n",
    "        )"
   ]
  },
  {
   "cell_type": "markdown",
   "metadata": {},
   "source": [
    "Number of personnel needed for each shift in the grinding(3) section.\n",
    "$$\n",
    "\\sum_{i=1}^n \\left( X_{ij3l} \\right) = 4, \\; j = 1, 2, \\ldots, m, \\; l = 1, 2  \\quad\\quad \\text{(8)}\n",
    "$$"
   ]
  },
  {
   "cell_type": "code",
   "execution_count": 12,
   "metadata": {},
   "outputs": [],
   "source": [
    "for j in list_range(m):\n",
    "    for l in list_range(t):\n",
    "        model.add_constraint(\n",
    "            model.sum(X[i, j, 3, l] for i in list_range(n)) == 4,\n",
    "            f\"Equation_8_Personnel_Requirement_Section_3_Day_{j}_Shift_{l}\"\n",
    "        )"
   ]
  },
  {
   "cell_type": "markdown",
   "metadata": {},
   "source": [
    "Number of personnel needed for each shift in the tempering(4) section.\n",
    "$$\n",
    "\\sum_{i=1}^n \\left( X_{ij4l} \\right) = 4, \\; j = 1, 2, \\ldots, m, \\; l = 1, 2  \\quad\\quad \\text{(9)}\n",
    "$$"
   ]
  },
  {
   "cell_type": "code",
   "execution_count": 13,
   "metadata": {},
   "outputs": [],
   "source": [
    "for j in list_range(m):\n",
    "    for l in list_range(t):\n",
    "        model.add_constraint(\n",
    "            model.sum(X[i, j, 3, l] for i in list_range(n)) == 4,\n",
    "            f\"Equation_9_Personnel_Requirement_Section_4_Day_{j}_Shift_{l}\"\n",
    "        )"
   ]
  },
  {
   "cell_type": "markdown",
   "metadata": {},
   "source": [
    "Number of personnel needed for each shift in the laminating(5) section.\n",
    "$$\n",
    "\\sum_{i=1}^n \\left( X_{ij5l} \\right) = 6, \\; j = 1, 2, \\ldots, m, \\; l = 1, 2  \\quad\\quad \\text{(10)}\n",
    "$$"
   ]
  },
  {
   "cell_type": "code",
   "execution_count": 14,
   "metadata": {},
   "outputs": [],
   "source": [
    "for j in list_range(m):\n",
    "    for l in list_range(t):\n",
    "        model.add_constraint(\n",
    "            model.sum(X[i, j, 5, l] for i in list_range(n)) == 6,\n",
    "            f\"Equation_10_Personnel_Requirement_Section_5_Day_{j}_Shift_{l}\"\n",
    "        )"
   ]
  },
  {
   "cell_type": "markdown",
   "metadata": {},
   "source": [
    "Number of personnel needed for each shift in the glazing(6) section.\n",
    "$$\n",
    "\\sum_{i=1}^n \\left( X_{ij6l} \\right) = 8, \\; j = 1, 2, \\ldots, m, \\; l = 1, 2  \\quad\\quad \\text{(11)}\n",
    "$$"
   ]
  },
  {
   "cell_type": "code",
   "execution_count": 15,
   "metadata": {},
   "outputs": [],
   "source": [
    "for j in list_range(m):\n",
    "    for l in list_range(t):\n",
    "        model.add_constraint(\n",
    "            model.sum(X[i, j, 6, l] for i in list_range(n)) == 8,\n",
    "            f\"Equation_11_Personnel_Requirement_Section_6_Day_{j}_Shift_{l}\"\n",
    "        )"
   ]
  },
  {
   "cell_type": "markdown",
   "metadata": {},
   "source": [
    "Number of personnel needed for each shift in the shipment(7) section.\n",
    "$$\n",
    "\\sum_{i=1}^n \\left( X_{ij7l} \\right) = 5, \\; j = 1, 2, \\ldots, m, \\; l = 1, 2  \\quad\\quad \\text{(12)}\n",
    "$$"
   ]
  },
  {
   "cell_type": "code",
   "execution_count": 16,
   "metadata": {},
   "outputs": [],
   "source": [
    "for j in list_range(m):\n",
    "    for l in list_range(t):\n",
    "        model.add_constraint(\n",
    "            model.sum(X[i, j, 7, l] for i in list_range(n)) == 5,\n",
    "            f\"Equation_12_Personnel_Requirement_Section_7_Day_{j}_Shift_{l}\"\n",
    "        )"
   ]
  },
  {
   "cell_type": "markdown",
   "metadata": {},
   "source": [
    "##### 2- Only one shift per personnel per day:\n",
    "$$\n",
    "\\sum_{l=1}^t \\sum_{k=1}^s \\left( X_{ijkl} \\right) \\leq 1, \\; i = 1, 2, \\ldots, n, \\; j = 1, 2, \\ldots, m  \\quad\\quad \\text{(13)}\n",
    "$$\n"
   ]
  },
  {
   "cell_type": "code",
   "execution_count": 17,
   "metadata": {},
   "outputs": [],
   "source": [
    "for i in list_range(n):\n",
    "    for j in list_range(m):\n",
    "        model.add_constraint(\n",
    "            model.sum(X[i, j, k, l] for k in list_range(s) for l in list_range(t)) <= 1,\n",
    "            f\"Equation_13_Single_Shift_Per_Day_{i}_{j}\"\n",
    "        )"
   ]
  },
  {
   "cell_type": "markdown",
   "metadata": {},
   "source": [
    "##### 3- personnel not working on the day of leave:\n",
    "$$\n",
    "\\sum_{l=1}^t \\sum_{k=1}^s \\left( X_{ijkl} \\right) \\leq \\left( 1 - h_{ij} \\right), \\; i = 1, 2, \\ldots, n, \\; j = 1, 2, \\ldots, m  \\quad\\quad\\ \\text{(14)}\n",
    "$$\n"
   ]
  },
  {
   "cell_type": "code",
   "execution_count": 18,
   "metadata": {},
   "outputs": [],
   "source": [
    "for i in list_range(n):\n",
    "    for j in list_range(m):\n",
    "        model.add_constraint(\n",
    "            model.sum(X[i, j, k, l] for k in list_range(s) for l in list_range(t)) <= (1 - h[i, j]),\n",
    "            f\"Equation_14_No_Work_On_Vacation_{i}_{j}\"\n",
    "        )"
   ]
  },
  {
   "cell_type": "markdown",
   "metadata": {},
   "source": [
    "#### 4- Each personnel member has a minimum of 1 and a maximum of 2 days a week.:\n",
    "\n",
    "$$\n",
    "h_{ij} + h_{i(j+1)} + h_{i(j+2)} + h_{i(j+3)} + h_{i(j+4)} + h_{i(j+5)} + h_{i(j+6)} \\leq 2, \\; i = 1, 2, \\ldots, n, \\; j = 1, 2, \\ldots, m-6  \\quad\\quad \\text{(15)}\n",
    "$$\n",
    "\n",
    "$$\n",
    "h_{ij} + h_{i(j+1)} + h_{i(j+2)} + h_{i(j+3)} + h_{i(j+4)} + h_{i(j+5)} + h_{i(j+6)} \\geq 1, \\; i = 1, 2, \\ldots, n, \\; j = 1, 2, \\ldots, m-6  \\quad\\quad \\text{(16)}\n",
    "$$\n"
   ]
  },
  {
   "cell_type": "code",
   "execution_count": 19,
   "metadata": {},
   "outputs": [],
   "source": [
    "\n",
    "for i in list_range(n):\n",
    "    for j in list_range(m - 6):\n",
    "        # Equation 15: Maximum 2 vacations in a 7-day period\n",
    "        model.add_constraint(\n",
    "            model.sum(h[i, j + d] for d in range(7)) <= 2,\n",
    "            f\"Equation_15_Max_2_Vacations_7_Days_{i}_{j}\"\n",
    "        )\n",
    "        # Equation 16: Minimum 1 vacation in a 7-day period\n",
    "        model.add_constraint(\n",
    "            model.sum(h[i, j + d] for d in range(7)) >= 1,\n",
    "            f\"Equation_16_Min_1_Vacation_7_Days_{i}_{j}\"\n",
    "        )"
   ]
  },
  {
   "cell_type": "markdown",
   "metadata": {},
   "source": [
    "#### 5-Upper limit for each personnel to work on 1 and 2 shifts:\n",
    "$$\n",
    "\\sum_{j=1}^m \\sum_{k=1}^s \\left( X_{ijk1} \\right) \\leq 12, \\; i = 1, 2, \\ldots, n \\quad\\quad \\text{(17)}\n",
    "$$\n",
    "\n",
    "$$\n",
    "\\sum_{j=1}^m \\sum_{k=1}^s \\left( X_{ijk2} \\right) \\leq 12, \\; i = 1, 2, \\ldots, n \\quad\\quad \\text{(18)}\n",
    "$$\n"
   ]
  },
  {
   "cell_type": "code",
   "execution_count": 20,
   "metadata": {},
   "outputs": [],
   "source": [
    "for i in list_range(n):\n",
    "    # Equation 17: Total assignments to shift 1 across all days and sections\n",
    "    model.add_constraint(\n",
    "        model.sum(X[i, j, k, 1] for j in list_range(m) for k in list_range(s)) <= 12,\n",
    "        f\"Equation_17_Max_Shift_1_Assignments_{i}\"\n",
    "    )\n",
    "    # Equation 18: Total assignments to shift 2 across all days and sections\n",
    "    model.add_constraint(\n",
    "        model.sum(X[i, j, k, 2] for j in list_range(m) for k in list_range(s)) <= 12,\n",
    "        f\"Equation_18_Max_Shift_2_Assignments_{i}\"\n",
    "    )"
   ]
  },
  {
   "cell_type": "markdown",
   "metadata": {},
   "source": [
    "#### 6- Lower limit restrictions for each personnel on 1 and 2 shifts:\n",
    "$$\n",
    "\\sum_{j=1}^m \\sum_{k=1}^s \\left( X_{ijk1} \\right) \\geq 10, \\; i = 1, 2, \\ldots, n \\quad\\quad \\text{(19)}\n",
    "$$\n",
    "\n",
    "$$\n",
    "\\sum_{j=1}^m \\sum_{k=1}^s \\left( X_{ijk2} \\right) \\geq 10, \\; i = 1, 2, \\ldots, n \\quad\\quad \\text{(20)}\n",
    "$$\n"
   ]
  },
  {
   "cell_type": "code",
   "execution_count": 21,
   "metadata": {},
   "outputs": [],
   "source": [
    "for i in list_range(n):\n",
    "    # Equation 19: Minimum 10 assignments to shift 1 across all days and sections\n",
    "    model.add_constraint(\n",
    "        model.sum(X[i, j, k, 1] for j in list_range(m) for k in list_range(s)) >= 10,\n",
    "        f\"Equation_19_Min_Shift_1_Assignments_{i}\"\n",
    "    )\n",
    "    # Equation 20: Minimum 10 assignments to shift 2 across all days and sections\n",
    "    model.add_constraint(\n",
    "        model.sum(X[i, j, k, 2] for j in list_range(m) for k in list_range(s)) >= 10,\n",
    "        f\"Equation_20_Min_Shift_2_Assignments_{i}\"\n",
    "    )"
   ]
  },
  {
   "cell_type": "markdown",
   "metadata": {},
   "source": [
    "##### 7- If an employee were assigned to the night shift on a given day, the next day’s shift in the morning shift would be limited:\n",
    "\n",
    "$$\n",
    "\\sum_{k=1}^s \\left( X_{ijk2} \\right) + \\left( X_{i(j+1)k1} \\right) \\leq 1, \\; i = 1, 2, \\ldots, n, \\; j = 1, 2 \\ldots, m-1  \\quad\\quad \\text{(21)}\n",
    "$$\n"
   ]
  },
  {
   "cell_type": "code",
   "execution_count": 22,
   "metadata": {},
   "outputs": [],
   "source": [
    "for i in list_range(n):\n",
    "    for j in list_range(m - 1):\n",
    "        model.add_constraint(\n",
    "            model.sum(X[i, j, k, 2] for k in list_range(s)) + model.sum(X[i, j + 1, k, 1] for k in list_range(s)) <= 1,\n",
    "            f\"Equation_21_No_Night_To_Morning_Consecutive_Shift_{i}_{j}\"\n",
    "        )"
   ]
  },
  {
   "cell_type": "markdown",
   "metadata": {},
   "source": [
    "## Goal Constraints\n",
    "\n",
    "##### Goal 1: Goal constraint where personnel are asked to minimize the assignment as day of leave-workday-leave when being assigned shifts:\n",
    "$$\n",
    "h_{ij} + \\sum_{k=1}^s \\sum_{l=1}^t \\left( X_{i(j+1)kl} \\right) + h_{i(j+2)} + d_{1ij}^- - d_{1ij}^+ = 2, \\; i = 1, 2, \\ldots, n, \\; j = 1, 2, \\ldots, m-2 \\quad\\quad \\text{(22)}\n",
    "$$\n"
   ]
  },
  {
   "cell_type": "code",
   "execution_count": 23,
   "metadata": {},
   "outputs": [],
   "source": [
    "for i in list_range(n):\n",
    "    for j in list_range(m - 2):\n",
    "        model.add_constraint(\n",
    "            h[i, j] +\n",
    "            model.sum(X[i, j + 1, k, l] for k in list_range(s) for l in list_range(t)) +\n",
    "            h[i, j + 2] +\n",
    "            d_neg_1[i, j] - d_pos_1[i, j] == 2,\n",
    "            f\"Goal_Constraint_Equation_22_{i}_{j}\"\n",
    "        )"
   ]
  },
  {
   "cell_type": "markdown",
   "metadata": {},
   "source": [
    "##### Goal 2: Goal constraint where personnel are asked to minimize the assignment of working day-tracking-working day when being assigned to shifts:\n",
    "\n",
    "$$\n",
    "\\sum_{k=1}^s \\sum_{l=1}^t \\left( X_{ijkl} \\right) + h_{i(j+1)} + \\sum_{k=1}^s \\sum_{l=1}^t \\left( X_{i(j+1)kl} \\right) + d_{2ij}^- - d_{2ij}^+ = 2, \\; i = 1, 2, \\ldots, n, \\; j = 1, 2, \\ldots, m-2 \\quad\\quad \\text{(23)}\n",
    "$$\n"
   ]
  },
  {
   "cell_type": "code",
   "execution_count": 24,
   "metadata": {},
   "outputs": [],
   "source": [
    "for i in list_range(n):\n",
    "    for j in list_range(m - 2):\n",
    "        model.add_constraint(\n",
    "            model.sum(X[i, j, k, l] for k in list_range(s) for l in list_range(t)) +\n",
    "            h[i, j + 1] +\n",
    "            model.sum(X[i, j + 1, k, l] for k in list_range(s) for l in list_range(t)) +\n",
    "            d_neg_2[i, j] - d_pos_2[i, j] == 2,\n",
    "            f\"Goal_Constraint_Equation_23_{i}_{j}\"\n",
    "        )"
   ]
  },
  {
   "cell_type": "markdown",
   "metadata": {},
   "source": [
    "##### Goal 3: Goal constraint on which the total number of vacancies for which each personnel is assigned is intended to be as equal as possible:\n",
    "$$\n",
    "\\sum_{j=1}^m \\sum_{k=1}^s \\sum_{l=1}^t \\left( X_{ijkl} \\right) + d_{3i}^- - d_{3i}^+ = 22, \\; i = 1, 2, \\ldots, n \\quad\\quad \\text{(24)}\n",
    "$$"
   ]
  },
  {
   "cell_type": "code",
   "execution_count": 25,
   "metadata": {},
   "outputs": [],
   "source": [
    "for i in list_range(n):\n",
    "    model.add_constraint(\n",
    "        model.sum(X[i, j, k, l] for j in list_range(m) for k in list_range(s) for l in list_range(t)) +\n",
    "        d_neg_3[i-1] - d_pos_3[i-1] == 22,\n",
    "        f\"Goal_Constraint_Equation_24_{i}\"\n",
    "    )"
   ]
  },
  {
   "cell_type": "markdown",
   "metadata": {},
   "source": [
    "##### Goal 4: Personnel assigned to the departments in each shift will provide the required sum of points as a qualification:\n",
    "\n",
    "$$\n",
    "\\sum_{i=1}^n \\left( X_{ij1l} \\right) * (1) + d_{4jl}^- - d_{4jl}^+ = 3, \\; j = 1, 2, \\ldots, m, \\; l = 1, 2  \\quad\\quad \\text{(25)}\n",
    "$$\n",
    "\n"
   ]
  },
  {
   "cell_type": "code",
   "execution_count": 26,
   "metadata": {},
   "outputs": [],
   "source": [
    "for j in list_range(m):\n",
    "    for l in list_range(t):\n",
    "        model.add_constraint(\n",
    "            model.sum(X[i, j, 1, l] * person_competency(i, 1) for i in list_range(n)) + d_neg_4[j, l] - d_pos_4[j, l] == 3,\n",
    "            f\"Equation_25_{j}_{l}\"\n",
    "        )"
   ]
  },
  {
   "cell_type": "markdown",
   "metadata": {},
   "source": [
    "$$\n",
    "\\sum_{i=1}^n \\left( X_{ij2l} \\right) * (2) + d_{5jl}^- - d_{5jl}^+ = 4, \\; j = 1, 2, \\ldots, m, \\; l = 1, 2  \\quad\\quad \\text{(26)}\n",
    "$$"
   ]
  },
  {
   "cell_type": "code",
   "execution_count": 27,
   "metadata": {},
   "outputs": [],
   "source": [
    "for j in list_range(m):\n",
    "    for l in list_range(t):\n",
    "        model.add_constraint(\n",
    "            model.sum(X[i, j, 2, l] * person_competency(i, 2) for i in list_range(n)) + d_neg_5[j, l] - d_pos_5[j, l] == 4,\n",
    "            f\"Equation_26_{j}_{l}\"\n",
    "        )"
   ]
  },
  {
   "cell_type": "markdown",
   "metadata": {},
   "source": [
    "$$\n",
    "\\sum_{i=1}^n \\left( X_{ij3l} \\right) * (3) + d_{6jl}^- - d_{6jl}^+ = 4, \\; j = 1, 2, \\ldots, m, \\; l = 1, 2 \\quad\\quad \\text{(27)}\n",
    "$$"
   ]
  },
  {
   "cell_type": "code",
   "execution_count": 28,
   "metadata": {},
   "outputs": [],
   "source": [
    "for j in list_range(m):\n",
    "    for l in list_range(t):\n",
    "        model.add_constraint(\n",
    "            model.sum(X[i, j, 3, l] * person_competency(i, 3) for i in list_range(n)) + d_neg_6[j, l] - d_pos_6[j, l] == 4,\n",
    "            f\"Equation_27_{j}_{l}\"\n",
    "        )"
   ]
  },
  {
   "cell_type": "markdown",
   "metadata": {},
   "source": [
    "$$\n",
    "\\sum_{i=1}^n \\left( X_{ij4l} \\right) * (4) + d_{7jl}^- - d_{7jl}^+ = 4, \\; j = 1, 2, \\ldots, m, \\; l = 1, 2  \\quad\\quad \\text{(28)}\n",
    "$$"
   ]
  },
  {
   "cell_type": "code",
   "execution_count": 29,
   "metadata": {},
   "outputs": [],
   "source": [
    "for j in list_range(m):\n",
    "    for l in list_range(t):\n",
    "        model.add_constraint(\n",
    "            model.sum(X[i, j, 4, l] * person_competency(i, 4) for i in list_range(n)) + d_neg_7[j, l] - d_pos_7[j, l] == 4,\n",
    "            f\"Equation_28_{j}_{l}\"\n",
    "        )"
   ]
  },
  {
   "cell_type": "markdown",
   "metadata": {},
   "source": [
    "$$\n",
    "\\sum_{i=1}^n \\left( X_{ij5l} \\right) * (5) + d_{8jl}^- - d_{8jl}^+ = 6, \\; j = 1, 2, \\ldots, m, \\; l = 1, 2  \\quad\\quad \\text{(29)}\n",
    "$$"
   ]
  },
  {
   "cell_type": "code",
   "execution_count": 30,
   "metadata": {},
   "outputs": [],
   "source": [
    "for j in list_range(m):\n",
    "    for l in list_range(t):\n",
    "        model.add_constraint(\n",
    "            model.sum(X[i, j, 5, l] * person_competency(i, 5) for i in list_range(n)) + d_neg_8[j, l] - d_pos_8[j, l] == 6,\n",
    "            f\"Equation_29_{j}_{l}\"\n",
    "        )"
   ]
  },
  {
   "cell_type": "markdown",
   "metadata": {},
   "source": [
    "$$\n",
    "\\sum_{i=1}^n \\left( X_{ij6l} \\right) * (6) + d_{9jl}^- - d_{9jl}^+ = 8, \\; j = 1, 2, \\ldots, m, \\; l = 1, 2\n",
    " \\quad\\quad \\text{(30)}\n",
    "$$"
   ]
  },
  {
   "cell_type": "code",
   "execution_count": 31,
   "metadata": {},
   "outputs": [],
   "source": [
    "for j in list_range(m):\n",
    "    for l in list_range(t):\n",
    "        model.add_constraint(\n",
    "            model.sum(X[i, j, 6, l] * person_competency(i, 6) for i in list_range(n)) + d_neg_9[j, l] - d_pos_9[j, l] == 8,\n",
    "            f\"Equation_30_{j}_{l}\"\n",
    "        )"
   ]
  },
  {
   "cell_type": "markdown",
   "metadata": {},
   "source": [
    "$$\n",
    "\\sum_{i=1}^n \\left( X_{ij7l} \\right) * (7) + d_{10jl}^- - d_{10jl}^+ = 5, \\; j = 1, 2, \\ldots, m, \\; l = 1, 2  \\quad\\quad \\text{(31)}\n",
    "$$"
   ]
  },
  {
   "cell_type": "code",
   "execution_count": 32,
   "metadata": {},
   "outputs": [],
   "source": [
    "for j in list_range(m):\n",
    "    for l in list_range(t):\n",
    "        model.add_constraint(\n",
    "            model.sum(X[i, j, 7, l] * person_competency(i, 7) for i in list_range(n)) + d_neg_10[j, l] - d_pos_10[j, l] == 5,\n",
    "            f\"Equation_31_{j}_{l}\"\n",
    "        )"
   ]
  },
  {
   "cell_type": "markdown",
   "metadata": {},
   "source": [
    "### Solve the problem\n",
    "using CPLEX_PY CPLEX Version: 22.1.1.0"
   ]
  },
  {
   "cell_type": "code",
   "execution_count": 33,
   "metadata": {},
   "outputs": [
    {
     "name": "stdout",
     "output_type": "stream",
     "text": [
      "Objective Value: 2618.9999999999986\n",
      "Solution saved to './src/solution/solution.xlsx'\n"
     ]
    }
   ],
   "source": [
    "# Solve the model\n",
    "solution = model.solve()\n",
    "\n",
    "# Display the results\n",
    "if solution:\n",
    "    print(\"Objective Value:\", solution.objective_value)\n",
    "\n",
    "    # Collect solution values into a dictionary\n",
    "    solution_dict = {var.name: var.solution_value for var in model.iter_variables()}\n",
    "    save_solution_dict(solution_dict)\n",
    "\n",
    "\t# Create schedule based on solution value\n",
    "    scheduler = Scheduler(solution=solution_dict)\n",
    "    scheduler.get_schedule()\n",
    "\n",
    "\t# Prepare excel writer for visualization\n",
    "    writer = Writer(\n",
    "\t\tfile_name=scheduler.file_name, \n",
    "\t\tnum_personnel=scheduler.num_personnel,\n",
    "\t\trows_per_person=scheduler.rows_per_person\n",
    "\t)\n",
    "\n",
    "\t# Write schedule in excel file\n",
    "    writer.write(\n",
    "\t\tschedule=scheduler.schedule,\n",
    "\t\tday_shifts=scheduler.day_shifts,\n",
    "\t\tnight_shifts=scheduler.night_shifts\n",
    "\t)\n",
    "\n",
    "    # Convert the solution dictionary to a pandas DataFrame\n",
    "    solution_df = pd.DataFrame(\n",
    "        list(solution_dict.items()), columns=[\"Variable\", \"Value\"]\n",
    "    )\n",
    "\n",
    "    # Save the DataFrame to an Excel file\n",
    "    solution_df.to_excel(\"./src/solution/solution.xlsx\", index=False)\n",
    "    print(\"Solution saved to './src/solution/solution.xlsx'\")\n",
    "else:\n",
    "    print(\"No solution found.\")\n"
   ]
  },
  {
   "cell_type": "markdown",
   "metadata": {},
   "source": [
    "### Reference\n",
    "\n",
    "[1] Kaçmaz, Ö., Alakaş, H. M., & Eren, T. (2019). Shift scheduling with the goal programming method: a case study in the glass industry. *Mathematics, 7*(6), 561. [https://doi.org/10.3390/math7060561](https://doi.org/10.3390/math7060561)\n"
   ]
  }
 ],
 "metadata": {
  "kernelspec": {
   "display_name": "3.10.16",
   "language": "python",
   "name": "python3"
  },
  "language_info": {
   "codemirror_mode": {
    "name": "ipython",
    "version": 3
   },
   "file_extension": ".py",
   "mimetype": "text/x-python",
   "name": "python",
   "nbconvert_exporter": "python",
   "pygments_lexer": "ipython3",
   "version": "3.10.16"
  }
 },
 "nbformat": 4,
 "nbformat_minor": 2
}
